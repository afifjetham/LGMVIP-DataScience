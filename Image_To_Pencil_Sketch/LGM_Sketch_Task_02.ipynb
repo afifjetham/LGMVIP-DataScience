{
 "cells": [
  {
   "cell_type": "markdown",
   "id": "902fb0a5",
   "metadata": {},
   "source": [
    "# Task 02"
   ]
  },
  {
   "cell_type": "markdown",
   "id": "016dc216",
   "metadata": {},
   "source": [
    "## Image to pencil sketch with python"
   ]
  },
  {
   "cell_type": "markdown",
   "id": "2a6e8287",
   "metadata": {},
   "source": [
    "#### By ~ Afif Jetham"
   ]
  },
  {
   "cell_type": "raw",
   "id": "2fce2e95",
   "metadata": {},
   "source": [
    "# installing opencv\n",
    "pip install opencv-python"
   ]
  },
  {
   "cell_type": "code",
   "execution_count": 3,
   "id": "68bb8e8b",
   "metadata": {},
   "outputs": [],
   "source": [
    "# importing the libraries\n",
    "import cv2"
   ]
  },
  {
   "cell_type": "code",
   "execution_count": 4,
   "id": "912bd624",
   "metadata": {},
   "outputs": [],
   "source": [
    "# loading the image\n",
    "selfie = cv2.imread('selfie.jpg')"
   ]
  },
  {
   "cell_type": "code",
   "execution_count": 5,
   "id": "473f4b87",
   "metadata": {},
   "outputs": [
    {
     "data": {
      "text/plain": [
       "array([[[  0,   0,   0],\n",
       "        [  0,   0,   0],\n",
       "        [  1,   1,   1],\n",
       "        ...,\n",
       "        [ 15,  58, 125],\n",
       "        [ 14,  57, 124],\n",
       "        [ 13,  56, 123]],\n",
       "\n",
       "       [[  0,   0,   0],\n",
       "        [  0,   0,   0],\n",
       "        [  0,   0,   0],\n",
       "        ...,\n",
       "        [ 15,  58, 125],\n",
       "        [ 14,  57, 124],\n",
       "        [ 12,  55, 122]],\n",
       "\n",
       "       [[  1,   1,   1],\n",
       "        [  0,   0,   0],\n",
       "        [  0,   0,   0],\n",
       "        ...,\n",
       "        [ 15,  58, 125],\n",
       "        [ 14,  57, 124],\n",
       "        [ 13,  56, 123]],\n",
       "\n",
       "       ...,\n",
       "\n",
       "       [[157, 164, 167],\n",
       "        [154, 161, 164],\n",
       "        [151, 158, 161],\n",
       "        ...,\n",
       "        [191, 198, 201],\n",
       "        [191, 198, 201],\n",
       "        [191, 198, 201]],\n",
       "\n",
       "       [[160, 165, 166],\n",
       "        [159, 164, 165],\n",
       "        [158, 163, 164],\n",
       "        ...,\n",
       "        [191, 198, 201],\n",
       "        [193, 198, 201],\n",
       "        [193, 198, 201]],\n",
       "\n",
       "       [[161, 166, 167],\n",
       "        [161, 166, 167],\n",
       "        [159, 164, 165],\n",
       "        ...,\n",
       "        [193, 198, 201],\n",
       "        [193, 198, 201],\n",
       "        [193, 198, 201]]], dtype=uint8)"
      ]
     },
     "execution_count": 5,
     "metadata": {},
     "output_type": "execute_result"
    }
   ],
   "source": [
    "selfie"
   ]
  },
  {
   "cell_type": "markdown",
   "id": "0cc23fea",
   "metadata": {},
   "source": [
    "<h1> Normal Image <h1/>\n",
    "<img src=\"selfie.jpg\" width=\"300\" height=\"240\">"
   ]
  },
  {
   "cell_type": "code",
   "execution_count": 6,
   "id": "c6f88d78",
   "metadata": {},
   "outputs": [],
   "source": [
    "# Adding the grey filter to the image\n",
    "grey_filter = cv2.cvtColor(selfie, cv2.COLOR_BGR2GRAY)"
   ]
  },
  {
   "cell_type": "code",
   "execution_count": 7,
   "id": "1372197e",
   "metadata": {},
   "outputs": [
    {
     "data": {
      "text/plain": [
       "array([[  0,   0,   1, ...,  73,  72,  71],\n",
       "       [  0,   0,   0, ...,  73,  72,  70],\n",
       "       [  1,   0,   0, ...,  73,  72,  71],\n",
       "       ...,\n",
       "       [164, 161, 158, ..., 198, 198, 198],\n",
       "       [165, 164, 163, ..., 198, 198, 198],\n",
       "       [166, 166, 164, ..., 198, 198, 198]], dtype=uint8)"
      ]
     },
     "execution_count": 7,
     "metadata": {},
     "output_type": "execute_result"
    }
   ],
   "source": [
    "grey_filter"
   ]
  },
  {
   "cell_type": "code",
   "execution_count": 8,
   "id": "792cd3d8",
   "metadata": {},
   "outputs": [
    {
     "data": {
      "text/plain": [
       "(866, 611, 3)"
      ]
     },
     "execution_count": 8,
     "metadata": {},
     "output_type": "execute_result"
    }
   ],
   "source": [
    "selfie.shape"
   ]
  },
  {
   "cell_type": "code",
   "execution_count": 9,
   "id": "7e2022e9",
   "metadata": {},
   "outputs": [],
   "source": [
    "# inverting the color of image\n",
    "invert_blur = cv2.bitwise_not(grey_filter)"
   ]
  },
  {
   "cell_type": "code",
   "execution_count": 10,
   "id": "d62363ee",
   "metadata": {},
   "outputs": [
    {
     "data": {
      "text/plain": [
       "array([[255, 255, 254, ..., 182, 183, 184],\n",
       "       [255, 255, 255, ..., 182, 183, 185],\n",
       "       [254, 255, 255, ..., 182, 183, 184],\n",
       "       ...,\n",
       "       [ 91,  94,  97, ...,  57,  57,  57],\n",
       "       [ 90,  91,  92, ...,  57,  57,  57],\n",
       "       [ 89,  89,  91, ...,  57,  57,  57]], dtype=uint8)"
      ]
     },
     "execution_count": 10,
     "metadata": {},
     "output_type": "execute_result"
    }
   ],
   "source": [
    "invert_blur"
   ]
  },
  {
   "cell_type": "code",
   "execution_count": 11,
   "id": "9c8f8c40",
   "metadata": {},
   "outputs": [],
   "source": [
    "# adding the blur attribute of cv2 library\n",
    "selfie_blur=cv2.GaussianBlur(invert_blur, (21,21), 0)"
   ]
  },
  {
   "cell_type": "code",
   "execution_count": 12,
   "id": "b03d3b65",
   "metadata": {},
   "outputs": [
    {
     "data": {
      "text/plain": [
       "array([[254, 254, 254, ..., 184, 184, 184],\n",
       "       [254, 254, 254, ..., 184, 184, 184],\n",
       "       [252, 252, 252, ..., 184, 184, 184],\n",
       "       ...,\n",
       "       [ 95,  95,  95, ...,  57,  57,  57],\n",
       "       [ 95,  95,  96, ...,  57,  57,  57],\n",
       "       [ 95,  95,  96, ...,  57,  57,  57]], dtype=uint8)"
      ]
     },
     "execution_count": 12,
     "metadata": {},
     "output_type": "execute_result"
    }
   ],
   "source": [
    "selfie_blur"
   ]
  },
  {
   "cell_type": "code",
   "execution_count": 14,
   "id": "b78a5ec3",
   "metadata": {},
   "outputs": [],
   "source": [
    "sketch =cv2.divide(grey_filter, invert_blur, scale=255.0)"
   ]
  },
  {
   "cell_type": "code",
   "execution_count": 15,
   "id": "78fbcd98",
   "metadata": {},
   "outputs": [
    {
     "data": {
      "text/plain": [
       "array([[  0,   0,   1, ..., 102, 100,  98],\n",
       "       [  0,   0,   0, ..., 102, 100,  96],\n",
       "       [  1,   0,   0, ..., 102, 100,  98],\n",
       "       ...,\n",
       "       [255, 255, 255, ..., 255, 255, 255],\n",
       "       [255, 255, 255, ..., 255, 255, 255],\n",
       "       [255, 255, 255, ..., 255, 255, 255]], dtype=uint8)"
      ]
     },
     "execution_count": 15,
     "metadata": {},
     "output_type": "execute_result"
    }
   ],
   "source": [
    "sketch"
   ]
  },
  {
   "cell_type": "code",
   "execution_count": 16,
   "id": "53960f22",
   "metadata": {},
   "outputs": [
    {
     "data": {
      "text/plain": [
       "True"
      ]
     },
     "execution_count": 16,
     "metadata": {},
     "output_type": "execute_result"
    }
   ],
   "source": [
    "cv2.imwrite('output.jpg',sketch)"
   ]
  },
  {
   "cell_type": "markdown",
   "id": "80f782a4",
   "metadata": {},
   "source": [
    "<h1> Sketch Image <h1/>\n",
    "<img src=\"output.jpg\" width=\"300\" height=\"240\">"
   ]
  }
 ],
 "metadata": {
  "kernelspec": {
   "display_name": "Python 3 (ipykernel)",
   "language": "python",
   "name": "python3"
  },
  "language_info": {
   "codemirror_mode": {
    "name": "ipython",
    "version": 3
   },
   "file_extension": ".py",
   "mimetype": "text/x-python",
   "name": "python",
   "nbconvert_exporter": "python",
   "pygments_lexer": "ipython3",
   "version": "3.9.12"
  }
 },
 "nbformat": 4,
 "nbformat_minor": 5
}
