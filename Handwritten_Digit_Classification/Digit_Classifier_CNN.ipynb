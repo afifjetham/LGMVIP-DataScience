{
 "cells": [
  {
   "cell_type": "markdown",
   "id": "63c5d9f0",
   "metadata": {},
   "source": [
    "# Digit Classifier - Convolutional Neural Network (CNN)"
   ]
  },
  {
   "cell_type": "code",
   "execution_count": 1,
   "id": "777fb2ad",
   "metadata": {},
   "outputs": [],
   "source": [
    "import numpy as np\n",
    "import pandas as pd\n",
    "import matplotlib.pyplot as plt\n",
    "import matplotlib as mlp\n",
    "%matplotlib inline"
   ]
  },
  {
   "cell_type": "code",
   "execution_count": 2,
   "id": "eff250d5",
   "metadata": {},
   "outputs": [],
   "source": [
    "import tensorflow as tf\n",
    "from tensorflow import keras"
   ]
  },
  {
   "cell_type": "code",
   "execution_count": 3,
   "id": "32ac022f",
   "metadata": {},
   "outputs": [],
   "source": [
    "digit_mnist = keras.datasets.mnist"
   ]
  },
  {
   "cell_type": "code",
   "execution_count": 4,
   "id": "e7fc1b42",
   "metadata": {},
   "outputs": [],
   "source": [
    "(X_train_full, y_train_full), (X_test, y_test) = digit_mnist.load_data()"
   ]
  },
  {
   "cell_type": "code",
   "execution_count": 5,
   "id": "ce1f4bcc",
   "metadata": {},
   "outputs": [
    {
     "name": "stdout",
     "output_type": "stream",
     "text": [
      "X_train_full:  (60000, 28, 28)\n",
      "y_train_full:  (60000,)\n",
      "X_test:  (10000, 28, 28)\n",
      "y_test:  (10000,)\n"
     ]
    }
   ],
   "source": [
    "print(\"X_train_full: \", X_train_full.shape)\n",
    "print(\"y_train_full: \", y_train_full.shape)\n",
    "print(\"X_test: \", X_test.shape)\n",
    "print(\"y_test: \", y_test.shape)"
   ]
  },
  {
   "cell_type": "code",
   "execution_count": 6,
   "id": "5b80691c",
   "metadata": {},
   "outputs": [
    {
     "data": {
      "text/plain": [
       "<matplotlib.image.AxesImage at 0x2ab683bcd60>"
      ]
     },
     "execution_count": 6,
     "metadata": {},
     "output_type": "execute_result"
    },
    {
     "data": {
      "image/png": "[encoded data removed]",
      "text/plain": [
       "<Figure size 432x288 with 1 Axes>"
      ]
     },
     "metadata": {
      "needs_background": "light"
     },
     "output_type": "display_data"
    }
   ],
   "source": [
    "plt.imshow(X_train_full[10])"
   ]
  },
  {
   "cell_type": "code",
   "execution_count": 7,
   "id": "0ad91cb4",
   "metadata": {},
   "outputs": [
    {
     "data": {
      "text/plain": [
       "3"
      ]
     },
     "execution_count": 7,
     "metadata": {},
     "output_type": "execute_result"
    }
   ],
   "source": [
    "y_train_full[10]"
   ]
  },
  {
   "cell_type": "markdown",
   "id": "7f2d1a78",
   "metadata": {},
   "source": [
    "### Data Reshape"
   ]
  },
  {
   "cell_type": "code",
   "execution_count": 8,
   "id": "65c4368a",
   "metadata": {},
   "outputs": [],
   "source": [
    "X_train_full = X_train_full.reshape((60000, 28, 28, 1))\n",
    "X_test = X_test.reshape((10000, 28, 28, 1))"
   ]
  },
  {
   "cell_type": "code",
   "execution_count": 9,
   "id": "4da9f48a",
   "metadata": {},
   "outputs": [
    {
     "name": "stdout",
     "output_type": "stream",
     "text": [
      "(60000, 28, 28, 1)\n",
      "(10000, 28, 28, 1)\n"
     ]
    }
   ],
   "source": [
    "print(X_train_full.shape)\n",
    "print(X_test.shape)"
   ]
  },
  {
   "cell_type": "markdown",
   "id": "eb444bc3",
   "metadata": {},
   "source": [
    "### Data Normalization\n",
    "We then normalize the data dimensions so that they are of approximately the same scale."
   ]
  },
  {
   "cell_type": "code",
   "execution_count": 10,
   "id": "254ab8f3",
   "metadata": {},
   "outputs": [],
   "source": [
    "X_train_n = X_train_full / 255\n",
    "X_test_n = X_test / 255"
   ]
  },
  {
   "cell_type": "markdown",
   "id": "533eafe2",
   "metadata": {},
   "source": [
    "### Split the data in Train / Validation / Test datasets.\n",
    "* **Training Data** - Used for training the model. <br>\n",
    "* **Validation Data** - Used for tuning the hyperparameters and evaluate the models. <br>\n",
    "* **Test Data** - Used to test the model after the model has gone through initial vetting by the validation set."
   ]
  },
  {
   "cell_type": "code",
   "execution_count": 11,
   "id": "8da13a6a",
   "metadata": {},
   "outputs": [],
   "source": [
    "X_valid, X_train = X_train_n[:6000], X_train_n[6000:]\n",
    "y_valid, y_train = y_train_full[:6000], y_train_full[6000:]\n",
    "X_test = X_test_n"
   ]
  },
  {
   "cell_type": "code",
   "execution_count": 12,
   "id": "c1deebbb",
   "metadata": {},
   "outputs": [
    {
     "name": "stdout",
     "output_type": "stream",
     "text": [
      "(6000, 28, 28, 1) (54000, 28, 28, 1)\n",
      "(6000,) (54000,)\n",
      "(10000, 28, 28, 1)\n"
     ]
    }
   ],
   "source": [
    "print(X_valid.shape, X_train.shape)\n",
    "print(y_valid.shape, y_train.shape)\n",
    "print(X_test.shape)"
   ]
  },
  {
   "cell_type": "markdown",
   "id": "8ec4ff16",
   "metadata": {},
   "source": [
    "### Create the Model Architecture"
   ]
  },
  {
   "cell_type": "code",
   "execution_count": 13,
   "id": "94ec013c",
   "metadata": {},
   "outputs": [],
   "source": [
    "np.random.seed(42)\n",
    "tf.random.set_seed(42)"
   ]
  },
  {
   "cell_type": "code",
   "execution_count": 14,
   "id": "761ebf82",
   "metadata": {},
   "outputs": [],
   "source": [
    "model_a = keras.models.Sequential()\n",
    "model_a.add(keras.layers.Conv2D(filters = 32, kernel_size = (3,3), strides = 1, padding = 'valid', activation = 'relu', input_shape = (28,28,1)))\n",
    "model_a.add(keras.layers.MaxPooling2D((2,2)))\n",
    "\n",
    "model_a.add(keras.layers.Flatten())\n",
    "model_a.add(keras.layers.Dense(200, activation = 'relu'))\n",
    "model_a.add(keras.layers.Dense(100, activation = 'relu'))\n",
    "model_a.add(keras.layers.Dense(10, activation = 'softmax'))"
   ]
  },
  {
   "cell_type": "code",
   "execution_count": 15,
   "id": "cb23d0b0",
   "metadata": {},
   "outputs": [
    {
     "name": "stdout",
     "output_type": "stream",
     "text": [
      "Model: \"sequential\"\n",
      "_________________________________________________________________\n",
      " Layer (type)                Output Shape              Param #   \n",
      "=================================================================\n",
      " conv2d (Conv2D)             (None, 26, 26, 32)        320       \n",
      "                                                                 \n",
      " max_pooling2d (MaxPooling2D  (None, 13, 13, 32)       0         \n",
      " )                                                               \n",
      "                                                                 \n",
      " flatten (Flatten)           (None, 5408)              0         \n",
      "                                                                 \n",
      " dense (Dense)               (None, 200)               1081800   \n",
      "                                                                 \n",
      " dense_1 (Dense)             (None, 100)               20100     \n",
      "                                                                 \n",
      " dense_2 (Dense)             (None, 10)                1010      \n",
      "                                                                 \n",
      "=================================================================\n",
      "Total params: 1,103,230\n",
      "Trainable params: 1,103,230\n",
      "Non-trainable params: 0\n",
      "_________________________________________________________________\n"
     ]
    }
   ],
   "source": [
    "model_a.summary()"
   ]
  },
  {
   "cell_type": "code",
   "execution_count": 16,
   "id": "85431724",
   "metadata": {},
   "outputs": [],
   "source": [
    "model_a.compile(loss = \"sparse_categorical_crossentropy\",\n",
    "             optimizer = \"sgd\",\n",
    "             metrics = [\"accuracy\"])"
   ]
  },
  {
   "cell_type": "code",
   "execution_count": 17,
   "id": "3721a014",
   "metadata": {},
   "outputs": [
    {
     "name": "stdout",
     "output_type": "stream",
     "text": [
      "Epoch 1/60\n",
      "844/844 [==============================] - 19s 22ms/step - loss: 0.6945 - accuracy: 0.8213 - val_loss: 0.2836 - val_accuracy: 0.9162\n",
      "Epoch 2/60\n",
      "844/844 [==============================] - 18s 21ms/step - loss: 0.2655 - accuracy: 0.9223 - val_loss: 0.2161 - val_accuracy: 0.9412\n",
      "Epoch 3/60\n",
      "844/844 [==============================] - 19s 22ms/step - loss: 0.2069 - accuracy: 0.9370 - val_loss: 0.1734 - val_accuracy: 0.9527\n",
      "Epoch 4/60\n",
      "844/844 [==============================] - 19s 22ms/step - loss: 0.1711 - accuracy: 0.9492 - val_loss: 0.1463 - val_accuracy: 0.9617\n",
      "Epoch 5/60\n",
      "844/844 [==============================] - 18s 21ms/step - loss: 0.1468 - accuracy: 0.9568 - val_loss: 0.1308 - val_accuracy: 0.9617\n",
      "Epoch 6/60\n",
      "844/844 [==============================] - 20s 24ms/step - loss: 0.1285 - accuracy: 0.9617 - val_loss: 0.1195 - val_accuracy: 0.9663\n",
      "Epoch 7/60\n",
      "844/844 [==============================] - 19s 23ms/step - loss: 0.1147 - accuracy: 0.9663 - val_loss: 0.1085 - val_accuracy: 0.9670\n",
      "Epoch 8/60\n",
      "844/844 [==============================] - 18s 21ms/step - loss: 0.1037 - accuracy: 0.9697 - val_loss: 0.1006 - val_accuracy: 0.9712\n",
      "Epoch 9/60\n",
      "844/844 [==============================] - 18s 21ms/step - loss: 0.0945 - accuracy: 0.9719 - val_loss: 0.0956 - val_accuracy: 0.9708\n",
      "Epoch 10/60\n",
      "844/844 [==============================] - 18s 21ms/step - loss: 0.0866 - accuracy: 0.9743 - val_loss: 0.0893 - val_accuracy: 0.9718\n",
      "Epoch 11/60\n",
      "844/844 [==============================] - 18s 21ms/step - loss: 0.0796 - accuracy: 0.9760 - val_loss: 0.0844 - val_accuracy: 0.9722\n",
      "Epoch 12/60\n",
      "844/844 [==============================] - 17s 21ms/step - loss: 0.0740 - accuracy: 0.9779 - val_loss: 0.0771 - val_accuracy: 0.9763\n",
      "Epoch 13/60\n",
      "844/844 [==============================] - 19s 23ms/step - loss: 0.0682 - accuracy: 0.9792 - val_loss: 0.0750 - val_accuracy: 0.9770\n",
      "Epoch 14/60\n",
      "844/844 [==============================] - 21s 25ms/step - loss: 0.0637 - accuracy: 0.9813 - val_loss: 0.0729 - val_accuracy: 0.9767\n",
      "Epoch 15/60\n",
      "844/844 [==============================] - 20s 24ms/step - loss: 0.0603 - accuracy: 0.9817 - val_loss: 0.0731 - val_accuracy: 0.9777\n",
      "Epoch 16/60\n",
      "844/844 [==============================] - 18s 21ms/step - loss: 0.0562 - accuracy: 0.9832 - val_loss: 0.0684 - val_accuracy: 0.9787\n",
      "Epoch 17/60\n",
      "844/844 [==============================] - 17s 20ms/step - loss: 0.0528 - accuracy: 0.9838 - val_loss: 0.0712 - val_accuracy: 0.9782\n",
      "Epoch 18/60\n",
      "844/844 [==============================] - 18s 22ms/step - loss: 0.0493 - accuracy: 0.9852 - val_loss: 0.0648 - val_accuracy: 0.9807\n",
      "Epoch 19/60\n",
      "844/844 [==============================] - 17s 20ms/step - loss: 0.0468 - accuracy: 0.9863 - val_loss: 0.0716 - val_accuracy: 0.9785\n",
      "Epoch 20/60\n",
      "844/844 [==============================] - 17s 20ms/step - loss: 0.0441 - accuracy: 0.9868 - val_loss: 0.0640 - val_accuracy: 0.9812\n",
      "Epoch 21/60\n",
      "844/844 [==============================] - 17s 20ms/step - loss: 0.0423 - accuracy: 0.9871 - val_loss: 0.0622 - val_accuracy: 0.9798\n",
      "Epoch 22/60\n",
      "844/844 [==============================] - 17s 20ms/step - loss: 0.0393 - accuracy: 0.9879 - val_loss: 0.0644 - val_accuracy: 0.9800\n",
      "Epoch 23/60\n",
      "844/844 [==============================] - 17s 20ms/step - loss: 0.0379 - accuracy: 0.9883 - val_loss: 0.0661 - val_accuracy: 0.9795\n",
      "Epoch 24/60\n",
      "844/844 [==============================] - 17s 20ms/step - loss: 0.0351 - accuracy: 0.9895 - val_loss: 0.0609 - val_accuracy: 0.9812\n",
      "Epoch 25/60\n",
      "844/844 [==============================] - 17s 20ms/step - loss: 0.0336 - accuracy: 0.9898 - val_loss: 0.0643 - val_accuracy: 0.9797\n",
      "Epoch 26/60\n",
      "844/844 [==============================] - 17s 20ms/step - loss: 0.0320 - accuracy: 0.9908 - val_loss: 0.0637 - val_accuracy: 0.9807\n",
      "Epoch 27/60\n",
      "844/844 [==============================] - 17s 20ms/step - loss: 0.0304 - accuracy: 0.9910 - val_loss: 0.0589 - val_accuracy: 0.9825\n",
      "Epoch 28/60\n",
      "844/844 [==============================] - 17s 20ms/step - loss: 0.0289 - accuracy: 0.9915 - val_loss: 0.0634 - val_accuracy: 0.9817\n",
      "Epoch 29/60\n",
      "844/844 [==============================] - 17s 20ms/step - loss: 0.0274 - accuracy: 0.9921 - val_loss: 0.0627 - val_accuracy: 0.9807\n",
      "Epoch 30/60\n",
      "844/844 [==============================] - 17s 20ms/step - loss: 0.0260 - accuracy: 0.9927 - val_loss: 0.0554 - val_accuracy: 0.9840\n",
      "Epoch 31/60\n",
      "844/844 [==============================] - 17s 20ms/step - loss: 0.0242 - accuracy: 0.9933 - val_loss: 0.0578 - val_accuracy: 0.9820\n",
      "Epoch 32/60\n",
      "844/844 [==============================] - 17s 21ms/step - loss: 0.0233 - accuracy: 0.9933 - val_loss: 0.0557 - val_accuracy: 0.9830\n",
      "Epoch 33/60\n",
      "844/844 [==============================] - 17s 20ms/step - loss: 0.0217 - accuracy: 0.9942 - val_loss: 0.0615 - val_accuracy: 0.9825\n",
      "Epoch 34/60\n",
      "844/844 [==============================] - 17s 20ms/step - loss: 0.0209 - accuracy: 0.9942 - val_loss: 0.0598 - val_accuracy: 0.9838\n",
      "Epoch 35/60\n",
      "844/844 [==============================] - 17s 20ms/step - loss: 0.0201 - accuracy: 0.9945 - val_loss: 0.0566 - val_accuracy: 0.9832\n",
      "Epoch 36/60\n",
      "844/844 [==============================] - 17s 21ms/step - loss: 0.0190 - accuracy: 0.9948 - val_loss: 0.0616 - val_accuracy: 0.9822\n",
      "Epoch 37/60\n",
      "844/844 [==============================] - 17s 20ms/step - loss: 0.0180 - accuracy: 0.9956 - val_loss: 0.0580 - val_accuracy: 0.9832\n",
      "Epoch 38/60\n",
      "844/844 [==============================] - 17s 20ms/step - loss: 0.0177 - accuracy: 0.9953 - val_loss: 0.0603 - val_accuracy: 0.9832\n",
      "Epoch 39/60\n",
      "844/844 [==============================] - 17s 20ms/step - loss: 0.0165 - accuracy: 0.9960 - val_loss: 0.0580 - val_accuracy: 0.9847\n",
      "Epoch 40/60\n",
      "844/844 [==============================] - 17s 20ms/step - loss: 0.0154 - accuracy: 0.9961 - val_loss: 0.0601 - val_accuracy: 0.9837\n",
      "Epoch 41/60\n",
      "844/844 [==============================] - 17s 20ms/step - loss: 0.0147 - accuracy: 0.9964 - val_loss: 0.0576 - val_accuracy: 0.9848\n",
      "Epoch 42/60\n",
      "844/844 [==============================] - 17s 20ms/step - loss: 0.0140 - accuracy: 0.9966 - val_loss: 0.0599 - val_accuracy: 0.9827\n",
      "Epoch 43/60\n",
      "844/844 [==============================] - 17s 20ms/step - loss: 0.0135 - accuracy: 0.9968 - val_loss: 0.0617 - val_accuracy: 0.9830\n",
      "Epoch 44/60\n",
      "844/844 [==============================] - 17s 20ms/step - loss: 0.0128 - accuracy: 0.9970 - val_loss: 0.0584 - val_accuracy: 0.9830\n",
      "Epoch 45/60\n",
      "844/844 [==============================] - 17s 20ms/step - loss: 0.0122 - accuracy: 0.9972 - val_loss: 0.0590 - val_accuracy: 0.9842\n",
      "Epoch 46/60\n",
      "844/844 [==============================] - 17s 20ms/step - loss: 0.0118 - accuracy: 0.9975 - val_loss: 0.0583 - val_accuracy: 0.9845\n",
      "Epoch 47/60\n",
      "844/844 [==============================] - 17s 20ms/step - loss: 0.0109 - accuracy: 0.9977 - val_loss: 0.0608 - val_accuracy: 0.9840\n",
      "Epoch 48/60\n",
      "844/844 [==============================] - 17s 20ms/step - loss: 0.0103 - accuracy: 0.9979 - val_loss: 0.0575 - val_accuracy: 0.9843\n",
      "Epoch 49/60\n",
      "844/844 [==============================] - 17s 20ms/step - loss: 0.0102 - accuracy: 0.9977 - val_loss: 0.0600 - val_accuracy: 0.9840\n",
      "Epoch 50/60\n",
      "844/844 [==============================] - 17s 20ms/step - loss: 0.0095 - accuracy: 0.9981 - val_loss: 0.0623 - val_accuracy: 0.9837\n",
      "Epoch 51/60\n",
      "844/844 [==============================] - 17s 20ms/step - loss: 0.0089 - accuracy: 0.9983 - val_loss: 0.0591 - val_accuracy: 0.9845\n",
      "Epoch 52/60\n",
      "844/844 [==============================] - 17s 20ms/step - loss: 0.0086 - accuracy: 0.9981 - val_loss: 0.0597 - val_accuracy: 0.9848\n",
      "Epoch 53/60\n",
      "844/844 [==============================] - 17s 20ms/step - loss: 0.0080 - accuracy: 0.9986 - val_loss: 0.0599 - val_accuracy: 0.9832\n",
      "Epoch 54/60\n",
      "844/844 [==============================] - 17s 20ms/step - loss: 0.0078 - accuracy: 0.9985 - val_loss: 0.0603 - val_accuracy: 0.9840\n",
      "Epoch 55/60\n",
      "844/844 [==============================] - 17s 20ms/step - loss: 0.0077 - accuracy: 0.9984 - val_loss: 0.0591 - val_accuracy: 0.9855\n",
      "Epoch 56/60\n",
      "844/844 [==============================] - 17s 20ms/step - loss: 0.0072 - accuracy: 0.9987 - val_loss: 0.0591 - val_accuracy: 0.9863\n",
      "Epoch 57/60\n"
     ]
    },
    {
     "name": "stdout",
     "output_type": "stream",
     "text": [
      "844/844 [==============================] - 17s 20ms/step - loss: 0.0067 - accuracy: 0.9989 - val_loss: 0.0611 - val_accuracy: 0.9843\n",
      "Epoch 58/60\n",
      "844/844 [==============================] - 17s 20ms/step - loss: 0.0068 - accuracy: 0.9989 - val_loss: 0.0582 - val_accuracy: 0.9857\n",
      "Epoch 59/60\n",
      "844/844 [==============================] - 18s 22ms/step - loss: 0.0063 - accuracy: 0.9990 - val_loss: 0.0605 - val_accuracy: 0.9843\n",
      "Epoch 60/60\n",
      "844/844 [==============================] - 18s 21ms/step - loss: 0.0056 - accuracy: 0.9992 - val_loss: 0.0629 - val_accuracy: 0.9838\n"
     ]
    }
   ],
   "source": [
    "model_history_a = model_a.fit(X_train, y_train, epochs = 60, batch_size = 64, validation_data = (X_valid, y_valid))"
   ]
  },
  {
   "cell_type": "code",
   "execution_count": 18,
   "id": "7276caf2",
   "metadata": {},
   "outputs": [
    {
     "data": {
      "image/png": "[encoded data removed]",
      "text/plain": [
       "<Figure size 576x360 with 1 Axes>"
      ]
     },
     "metadata": {
      "needs_background": "light"
     },
     "output_type": "display_data"
    }
   ],
   "source": [
    "pd.DataFrame(model_history_a.history).plot(figsize = (8,5))\n",
    "plt.grid(True)\n",
    "plt.gca().set_ylim(0,1)\n",
    "plt.show()"
   ]
  },
  {
   "cell_type": "markdown",
   "id": "cdf91a5c",
   "metadata": {},
   "source": [
    "### Model Evaluation"
   ]
  },
  {
   "cell_type": "code",
   "execution_count": 19,
   "id": "e89630cf",
   "metadata": {},
   "outputs": [
    {
     "name": "stdout",
     "output_type": "stream",
     "text": [
      "313/313 [==============================] - 2s 5ms/step - loss: 0.0547 - accuracy: 0.9839\n"
     ]
    },
    {
     "data": {
      "text/plain": [
       "[0.05467979237437248, 0.9839000105857849]"
      ]
     },
     "execution_count": 19,
     "metadata": {},
     "output_type": "execute_result"
    }
   ],
   "source": [
    "ev_a = model_a.evaluate(X_test, y_test)\n",
    "ev_a"
   ]
  },
  {
   "cell_type": "markdown",
   "id": "289c749c",
   "metadata": {},
   "source": [
    "### Therefore, Accuracy of our model on test data set is 98%. So, we can conclude that is a good model."
   ]
  }
 ],
 "metadata": {
  "kernelspec": {
   "display_name": "Python 3 (ipykernel)",
   "language": "python",
   "name": "python3"
  },
  "language_info": {
   "codemirror_mode": {
    "name": "ipython",
    "version": 3
   },
   "file_extension": ".py",
   "mimetype": "text/x-python",
   "name": "python",
   "nbconvert_exporter": "python",
   "pygments_lexer": "ipython3",
   "version": "3.9.12"
  }
 },
 "nbformat": 4,
 "nbformat_minor": 5
}
